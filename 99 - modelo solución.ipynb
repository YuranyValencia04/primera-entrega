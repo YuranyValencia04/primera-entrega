{
  "nbformat": 4,
  "nbformat_minor": 0,
  "metadata": {
    "colab": {
      "provenance": [],
      "include_colab_link": true
    },
    "kernelspec": {
      "name": "python3",
      "display_name": "Python 3"
    },
    "language_info": {
      "name": "python"
    }
  },
  "cells": [
    {
      "cell_type": "markdown",
      "metadata": {
        "id": "view-in-github",
        "colab_type": "text"
      },
      "source": [
        "<a href=\"https://colab.research.google.com/github/YuranyValencia04/primera-entrega/blob/main/99%20-%20modelo%20soluci%C3%B3n.ipynb\" target=\"_parent\"><img src=\"https://colab.research.google.com/assets/colab-badge.svg\" alt=\"Open In Colab\"/></a>"
      ]
    },
    {
      "cell_type": "code",
      "source": [
        "# Instalar XGBoost (si es necesario)\n",
        "!pip install xgboost\n",
        "\n",
        "# Importar librerías necesarias\n",
        "import pandas as pd\n",
        "import numpy as np\n",
        "from unidecode import unidecode\n",
        "\n",
        "# Cargar datos\n",
        "train_df = pd.read_csv(\"train.csv\")\n",
        "test_df = pd.read_csv(\"test.csv\")\n",
        "\n",
        "# Verificar tamaños\n",
        "print(\"Train shape:\", train_df.shape)\n",
        "print(\"Test shape:\", test_df.shape)\n"
      ],
      "metadata": {
        "colab": {
          "base_uri": "https://localhost:8080/"
        },
        "id": "uxM5Jj1d_lJR",
        "outputId": "c6b21d76-c3fd-4405-abb2-ddd45f2b611d"
      },
      "execution_count": null,
      "outputs": [
        {
          "output_type": "stream",
          "name": "stdout",
          "text": [
            "Requirement already satisfied: xgboost in /usr/local/lib/python3.11/dist-packages (2.1.4)\n",
            "Requirement already satisfied: numpy in /usr/local/lib/python3.11/dist-packages (from xgboost) (2.0.2)\n",
            "Requirement already satisfied: nvidia-nccl-cu12 in /usr/local/lib/python3.11/dist-packages (from xgboost) (2.21.5)\n",
            "Requirement already satisfied: scipy in /usr/local/lib/python3.11/dist-packages (from xgboost) (1.15.3)\n",
            "Train shape: (692500, 21)\n",
            "Test shape: (296786, 20)\n"
          ]
        }
      ]
    },
    {
      "cell_type": "code",
      "source": [
        "def format_df(df):\n",
        "    df = df.copy()\n",
        "    df = df.fillna(\"Miss\")\n",
        "\n",
        "    # ===== One-hot encoding básico =====\n",
        "    onehot_cols = [\"FAMI_TIENEINTERNET\", \"ESTU_PAGOMATRICULAPROPIO\"]\n",
        "    for col in onehot_cols:\n",
        "        dummies = pd.get_dummies(df[col], prefix=col)\n",
        "        df = pd.concat([df.drop(col, axis=1), dummies], axis=1)\n",
        "\n",
        "    # ===== Mapeos ordinales =====\n",
        "    mappings = {\n",
        "        \"ESTU_VALORMATRICULAUNIVERSIDAD\": {\n",
        "            'Miss': 0, 'No pagó matrícula': 1, 'Menos de 500 mil': 2,\n",
        "            'Entre 500 mil y menos de 1 millón': 3, 'Entre 1 millón y menos de 2.5 millones': 4,\n",
        "            'Entre 2.5 millones y menos de 4 millones': 5, 'Entre 4 millones y menos de 5.5 millones': 6,\n",
        "            'Entre 5.5 millones y menos de 7 millones': 7, 'Más de 7 millones': 8\n",
        "        },\n",
        "        \"ESTU_HORASSEMANATRABAJA\": {\n",
        "            'Miss': 0, '0': 1, 'Menos de 10 horas': 2, 'Entre 11 y 20 horas': 3,\n",
        "            'Entre 21 y 30 horas': 4, 'Más de 30 horas': 5\n",
        "        },\n",
        "        \"FAMI_ESTRATOVIVIENDA\": {\n",
        "            'Miss': -1, 'Sin Estrato': 0, 'Estrato 1': 1, 'Estrato 2': 2,\n",
        "            'Estrato 3': 3, 'Estrato 4': 4, 'Estrato 5': 5, 'Estrato 6': 6\n",
        "        },\n",
        "        \"FAMI_EDUCACIONPADRE\": {\n",
        "            'Miss': -2, 'No Aplica': -1, 'Ninguno': 0, 'No sabe': 1,\n",
        "            'Primaria incompleta': 2, 'Primaria completa': 3,\n",
        "            'Secundaria (Bachillerato) incompleta': 4, 'Secundaria (Bachillerato) completa': 5,\n",
        "            'Técnica o tecnológica incompleta': 6, 'Técnica o tecnológica completa': 7,\n",
        "            'Educación profesional incompleta': 8, 'Educación profesional completa': 9,\n",
        "            'Postgrado': 10\n",
        "        },\n",
        "        \"FAMI_EDUCACIONMADRE\": {\n",
        "            'Miss': -2, 'No Aplica': -1, 'Ninguno': 0, 'No sabe': 1,\n",
        "            'Primaria incompleta': 2, 'Primaria completa': 3,\n",
        "            'Secundaria (Bachillerato) incompleta': 4, 'Secundaria (Bachillerato) completa': 5,\n",
        "            'Técnica o tecnológica incompleta': 6, 'Técnica o tecnológica completa': 7,\n",
        "            'Educación profesional incompleta': 8, 'Educación profesional completa': 9,\n",
        "            'Postgrado': 10\n",
        "        },\n",
        "        \"RENDIMIENTO_GLOBAL\": {\n",
        "            'bajo': 1, 'medio-bajo': 2, 'medio-alto': 3, 'alto': 4\n",
        "        }\n",
        "    }\n",
        "\n",
        "    for col, mapping in mappings.items():\n",
        "        if col in df.columns:\n",
        "            df[col] = df[col].map(mapping)\n",
        "\n",
        "    # ===== Normalizar nombres de programas =====\n",
        "    if \"ESTU_PRGM_ACADEMICO\" in df.columns:\n",
        "        df[\"ESTU_PRGM_ACADEMICO\"] = df[\"ESTU_PRGM_ACADEMICO\"].apply(lambda x: unidecode(str(x)).upper())\n",
        "        freqs = df[\"ESTU_PRGM_ACADEMICO\"].value_counts()\n",
        "        rare_programs = freqs[freqs < 10].index\n",
        "        df[\"ESTU_PRGM_ACADEMICO\"] = df[\"ESTU_PRGM_ACADEMICO\"].replace(rare_programs, \"OTROS\")\n",
        "        df[\"ESTU_PRGM_ACADEMICO\"] = pd.factorize(df[\"ESTU_PRGM_ACADEMICO\"])[0]\n",
        "\n",
        "    # ===== Codificar departamento =====\n",
        "    if \"ESTU_PRGM_DEPARTAMENTO\" in df.columns:\n",
        "        df[\"ESTU_PRGM_DEPARTAMENTO\"] = df[\"ESTU_PRGM_DEPARTAMENTO\"].apply(lambda x: unidecode(str(x)).upper())\n",
        "        dummies = pd.get_dummies(df[\"ESTU_PRGM_DEPARTAMENTO\"], prefix=\"DEPTO\")\n",
        "        df = pd.concat([df.drop(\"ESTU_PRGM_DEPARTAMENTO\", axis=1), dummies], axis=1)\n",
        "\n",
        "    # ===== 🚀 NUEVAS VARIABLES CREADAS =====\n",
        "    df[\"TRABAJA_Y_NO_INTERNET\"] = (\n",
        "        (df[\"ESTU_HORASSEMANATRABAJA\"] > 1) &\n",
        "        (df.get(\"FAMI_TIENEINTERNET_No\", 0) == 1)\n",
        "    ).astype(int)\n",
        "\n",
        "    df[\"PAGA_MATRICULA_BAJO_ESTRATO\"] = (\n",
        "        (df[\"ESTU_VALORMATRICULAUNIVERSIDAD\"] > 1) &\n",
        "        (df[\"FAMI_ESTRATOVIVIENDA\"] <= 2)\n",
        "    ).astype(int)\n",
        "\n",
        "    df[\"TOTAL_EDUC_PADRES\"] = df[\"FAMI_EDUCACIONPADRE\"] + df[\"FAMI_EDUCACIONMADRE\"]\n",
        "\n",
        "    return df\n"
      ],
      "metadata": {
        "id": "P_zF3Gvk_1JS"
      },
      "execution_count": null,
      "outputs": []
    },
    {
      "cell_type": "code",
      "source": [
        "# Aplicar la función de formateo\n",
        "final_train_df = format_df(train_df)\n",
        "final_test_df = format_df(test_df)\n",
        "\n",
        "# Preparar X e y (recuerda que restamos 1 a y para que quede en [0,1,2,3])\n",
        "X = final_train_df.drop(columns=[\"RENDIMIENTO_GLOBAL\", \"ID\"], errors='ignore')\n",
        "y = final_train_df[\"RENDIMIENTO_GLOBAL\"].values - 1  # para que las clases sean [0, 1, 2, 3]\n",
        "\n",
        "# Preparar X_test\n",
        "X_test = final_test_df.drop(columns=[\"ID\"], errors='ignore')\n",
        "\n",
        "# Asegurar que no haya columnas tipo objeto\n",
        "for df in [X, X_test]:\n",
        "    for col in df.columns:\n",
        "        if df[col].dtype == 'object':\n",
        "            df[col] = pd.factorize(df[col])[0]\n",
        "\n",
        "# Confirmar dimensiones\n",
        "print(\"X shape:\", X.shape)\n",
        "print(\"y shape:\", y.shape)\n",
        "print(\"X_test shape:\", X_test.shape)\n"
      ],
      "metadata": {
        "colab": {
          "base_uri": "https://localhost:8080/"
        },
        "id": "LuHr8HnU_6vx",
        "outputId": "67303505-0953-40a0-e37c-b314cea11d74"
      },
      "execution_count": null,
      "outputs": [
        {
          "output_type": "stream",
          "name": "stdout",
          "text": [
            "X shape: (692500, 56)\n",
            "y shape: (692500,)\n",
            "X_test shape: (296786, 56)\n"
          ]
        }
      ]
    },
    {
      "cell_type": "code",
      "source": [
        "from xgboost import XGBClassifier\n",
        "\n",
        "# Definir modelo con buenos hiperparámetros iniciales\n",
        "xgb_model = XGBClassifier(\n",
        "    objective='multi:softmax',\n",
        "    num_class=4,\n",
        "    learning_rate=0.1,\n",
        "    max_depth=6,\n",
        "    n_estimators=250,\n",
        "    subsample=0.8,\n",
        "    colsample_bytree=0.8,\n",
        "    use_label_encoder=False,\n",
        "    eval_metric='mlogloss',\n",
        "    random_state=42\n",
        ")\n",
        "\n",
        "# Entrenar\n",
        "xgb_model.fit(X, y)\n",
        "\n",
        "# Predecir sobre el conjunto de prueba\n",
        "y_pred = xgb_model.predict(X_test)\n"
      ],
      "metadata": {
        "colab": {
          "base_uri": "https://localhost:8080/"
        },
        "id": "94qpbSiTADox",
        "outputId": "773cf411-75d4-4d0c-fd10-4e57c16c7335"
      },
      "execution_count": null,
      "outputs": [
        {
          "output_type": "stream",
          "name": "stderr",
          "text": [
            "/usr/local/lib/python3.11/dist-packages/xgboost/core.py:158: UserWarning: [20:35:26] WARNING: /workspace/src/learner.cc:740: \n",
            "Parameters: { \"use_label_encoder\" } are not used.\n",
            "\n",
            "  warnings.warn(smsg, UserWarning)\n"
          ]
        }
      ]
    },
    {
      "cell_type": "code",
      "source": [
        "# Diccionario de clases\n",
        "data_performance_dict = {\n",
        "    0: 'bajo',\n",
        "    1: 'medio-bajo',\n",
        "    2: 'medio-alto',\n",
        "    3: 'alto',\n",
        "}\n",
        "\n",
        "# Convertir predicciones numéricas a texto\n",
        "y_labels = [data_performance_dict[val] for val in y_pred]\n",
        "\n",
        "# Recuperar los IDs reales del test\n",
        "ids = test_df[\"ID\"].values\n",
        "\n",
        "# Crear DataFrame de salida\n",
        "submission = pd.DataFrame({\n",
        "    \"ID\": ids,\n",
        "    \"RENDIMIENTO_GLOBAL\": y_labels\n",
        "})\n",
        "\n",
        "# Exportar archivo\n",
        "submission.to_csv(\"out.csv\", index=False)\n"
      ],
      "metadata": {
        "id": "J5Ofh8g2AFlR"
      },
      "execution_count": null,
      "outputs": []
    },
    {
      "cell_type": "code",
      "source": [
        "from google.colab import files\n",
        "files.download(\"out.csv\")\n"
      ],
      "metadata": {
        "id": "eepBbdbjAe4S"
      },
      "execution_count": null,
      "outputs": []
    }
  ]
}